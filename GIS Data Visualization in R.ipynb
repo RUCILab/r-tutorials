{
 "cells": [
  {
   "cell_type": "markdown",
   "metadata": {},
   "source": [
    "# Introduction To GIS Data Visualization With R\n",
    "### Gavin Rozzi - [Rutgers Urban & Civic Informatics Lab](https://rucilab.rutgers.edu)"
   ]
  },
  {
   "cell_type": "markdown",
   "metadata": {},
   "source": [
    "R is a powerful programming language for analyzing, modeling and visualizing data. In this notebook, we will explore using [Mapdeck](https://cran.r-project.org/web/packages/mapdeck/vignettes/mapdeck.html) to create visualizations from GIS data.\n",
    "\n",
    "The open source libraries are excellent tools for creating presentation-ready visualizations and graphics. This notebook assumes a basic familiarity with R syntax. We hope you find this demonstration useful."
   ]
  },
  {
   "cell_type": "markdown",
   "metadata": {},
   "source": [
    "## Setting up your machine for R development\n",
    "First, ensure that you have R installed on your machine. If you are using a Bloustein School computer or lab desktop, Rstudio should be installed on your system. To install R on your personal machine, [follow this guide.](https://rstudio-education.github.io/hopr/starting.html)"
   ]
  },
  {
   "cell_type": "markdown",
   "metadata": {},
   "source": [
    "## Mapdeck - Interactive GIS Visualizations in R\n",
    "\n",
    "Mapdeck is a powerful tool for creating interactive visualizations using R. Mapdeck provides an R interface to the data visualization library deck.gl, which is what Kepler.gl (which we have already covered) is based upon.\n",
    "\n",
    "You can install Mapdeck on your machine by typing the following code into the R console:"
   ]
  },
  {
   "cell_type": "code",
   "execution_count": 1,
   "metadata": {},
   "outputs": [
    {
     "name": "stderr",
     "output_type": "stream",
     "text": [
      "Installing package into ‘/home/gavin/R/x86_64-pc-linux-gnu-library/3.6’\n",
      "(as ‘lib’ is unspecified)\n",
      "\n"
     ]
    }
   ],
   "source": [
    "install.packages('mapdeck')"
   ]
  },
  {
   "cell_type": "markdown",
   "metadata": {},
   "source": [
    "You'll also want to ensure that you have the tidyverse package installed for working with data and using the pipe operator. We'll cover the tidyverse modules in-depth at a later date."
   ]
  },
  {
   "cell_type": "code",
   "execution_count": 2,
   "metadata": {},
   "outputs": [
    {
     "name": "stderr",
     "output_type": "stream",
     "text": [
      "Installing package into ‘/home/gavin/R/x86_64-pc-linux-gnu-library/3.6’\n",
      "(as ‘lib’ is unspecified)\n",
      "\n"
     ]
    }
   ],
   "source": [
    "install.packages('tidyverse')"
   ]
  },
  {
   "cell_type": "markdown",
   "metadata": {},
   "source": [
    "Now that you have installed Mapdeck, you can begin working with it in R by importing it like so:"
   ]
  },
  {
   "cell_type": "code",
   "execution_count": 3,
   "metadata": {},
   "outputs": [],
   "source": [
    "library(mapdeck)"
   ]
  },
  {
   "cell_type": "markdown",
   "metadata": {},
   "source": [
    "Next, we will look at some ways that Mapdeck can be used for high quality GIS data visualizations"
   ]
  },
  {
   "cell_type": "markdown",
   "metadata": {},
   "source": [
    "## Building your first map"
   ]
  },
  {
   "cell_type": "markdown",
   "metadata": {},
   "source": [
    "First thing first: you're going to need a Mapbox access token in order to use Mapdeck. Mapdeck, like Kepler and other JS-based visualization libraries depends on Mapbox, a free service for web-based maps. Please visit [this page](https://account.mapbox.com/auth/signin/?route-to=%22https://account.mapbox.com/access-tokens/%22) to register for a free Mapbox access token. \n",
    "\n",
    "**IMPORTANT: Do not publish your Mapbox access token in any public-facing repositories or commit it into Github.** Your mapbox access token is an API key that is tied to your account. We will cover securely storing API keys in a separate module. Only share your mapbox access token privately with other members of the lab or the Bloustein School for troubleshooting purposes.\n",
    "\n",
    "Your token should start with \"pk.\" and contain a long string of random characters. Keep note of this token and store it safely."
   ]
  },
  {
   "cell_type": "markdown",
   "metadata": {},
   "source": [
    "Once you have your token generated you can store it in R as a variable for the duration of your session."
   ]
  },
  {
   "cell_type": "code",
   "execution_count": 4,
   "metadata": {},
   "outputs": [],
   "source": [
    "token <- \"PASTE YOUR MAPBOX TOKEN HERE\"\n",
    "#OR\n",
    "token = \"PASTE YOUR TOKEN HERE\""
   ]
  },
  {
   "cell_type": "markdown",
   "metadata": {},
   "source": [
    "With the token defined, we are now ready to create our first map with mapdeck"
   ]
  },
  {
   "cell_type": "markdown",
   "metadata": {},
   "source": [
    "## Example 1: 3D map of Uber trips in the UK"
   ]
  },
  {
   "cell_type": "markdown",
   "metadata": {},
   "source": [
    "We'll begin by reading in some sample data on Uber trips"
   ]
  },
  {
   "cell_type": "code",
   "execution_count": 5,
   "metadata": {},
   "outputs": [
    {
     "data": {
      "text/html": [
       "<table>\n",
       "<caption>A data.frame: 6 × 2</caption>\n",
       "<thead>\n",
       "\t<tr><th></th><th scope=col>lng</th><th scope=col>lat</th></tr>\n",
       "\t<tr><th></th><th scope=col>&lt;dbl&gt;</th><th scope=col>&lt;dbl&gt;</th></tr>\n",
       "</thead>\n",
       "<tbody>\n",
       "\t<tr><th scope=row>1</th><td>-0.198465</td><td>51.50554</td></tr>\n",
       "\t<tr><th scope=row>2</th><td>-0.178838</td><td>51.49184</td></tr>\n",
       "\t<tr><th scope=row>3</th><td>-0.205590</td><td>51.51491</td></tr>\n",
       "\t<tr><th scope=row>4</th><td>-0.208327</td><td>51.51495</td></tr>\n",
       "\t<tr><th scope=row>5</th><td>-0.206022</td><td>51.49657</td></tr>\n",
       "\t<tr><th scope=row>6</th><td>-0.193610</td><td>51.50079</td></tr>\n",
       "</tbody>\n",
       "</table>\n"
      ],
      "text/latex": [
       "A data.frame: 6 × 2\n",
       "\\begin{tabular}{r|ll}\n",
       "  & lng & lat\\\\\n",
       "  & <dbl> & <dbl>\\\\\n",
       "\\hline\n",
       "\t1 & -0.198465 & 51.50554\\\\\n",
       "\t2 & -0.178838 & 51.49184\\\\\n",
       "\t3 & -0.205590 & 51.51491\\\\\n",
       "\t4 & -0.208327 & 51.51495\\\\\n",
       "\t5 & -0.206022 & 51.49657\\\\\n",
       "\t6 & -0.193610 & 51.50079\\\\\n",
       "\\end{tabular}\n"
      ],
      "text/markdown": [
       "\n",
       "A data.frame: 6 × 2\n",
       "\n",
       "| <!--/--> | lng &lt;dbl&gt; | lat &lt;dbl&gt; |\n",
       "|---|---|---|\n",
       "| 1 | -0.198465 | 51.50554 |\n",
       "| 2 | -0.178838 | 51.49184 |\n",
       "| 3 | -0.205590 | 51.51491 |\n",
       "| 4 | -0.208327 | 51.51495 |\n",
       "| 5 | -0.206022 | 51.49657 |\n",
       "| 6 | -0.193610 | 51.50079 |\n",
       "\n"
      ],
      "text/plain": [
       "  lng       lat     \n",
       "1 -0.198465 51.50554\n",
       "2 -0.178838 51.49184\n",
       "3 -0.205590 51.51491\n",
       "4 -0.208327 51.51495\n",
       "5 -0.206022 51.49657\n",
       "6 -0.193610 51.50079"
      ]
     },
     "metadata": {},
     "output_type": "display_data"
    }
   ],
   "source": [
    "#Read in the dataset you want to visualize from a URL\n",
    "# Uber publishes sample data via Github using the link below\n",
    "df <- read.csv('https://raw.githubusercontent.com/uber-common/deck.gl-data/master/examples/3d-heatmap/heatmap-data.csv')\n",
    "\n",
    "# Some rows do not have latitudes and longitudes. Using the next line we will exclude any rows with NA values for latitude and longitude\n",
    "df <- df[!is.na(df$lng), ]\n",
    "\n",
    "# Let's view the first few rows of our dataset\n",
    "head(df)"
   ]
  },
  {
   "cell_type": "code",
   "execution_count": 6,
   "metadata": {},
   "outputs": [],
   "source": [
    "# Some rows within the full dataset do not have latitudes and longitudes. Using the next line we will exclude any rows with NA values for latitude and longitude\n",
    "df <- df[!is.na(df$lng), ]"
   ]
  },
  {
   "cell_type": "code",
   "execution_count": 16,
   "metadata": {},
   "outputs": [
    {
     "data": {
      "text/html": [
       "<iframe src=\"demo.html\"></iframe>"
      ]
     },
     "metadata": {},
     "output_type": "display_data"
    }
   ],
   "source": [
    "# Only needed for displaying within notebook\n",
    "library(IRdisplay)\n",
    "library(htmlwidgets)\n",
    "\n",
    "# This example has been adapted from an example published by the developers of Mapdeck\n",
    "\n",
    "\n",
    "# We start by calling the mapdeck function and setting a color style for the map\n",
    "# Pitch is used in 3D maps to set the angle you'll be viewing the map from - try changing that value and seeing how the map changes\n",
    "\n",
    "# After you call the mapdeck function, a pipe operator (%>%) is used to add additional layers to the map.\n",
    "# You can use the pipe operator to add as many layers as you'd like to a map.\n",
    "\n",
    "map <- mapdeck(token = token, style = mapdeck_style(\"dark\"), pitch = 45) %>%\n",
    "  add_hexagon(\n",
    "    data = df\n",
    "    , lat = \"lat\"\n",
    "    , lon = \"lng\"\n",
    "    , layer_id = \"hex_layer\"\n",
    "    , elevation_scale = 100\n",
    "    , colour_range = colourvalues::colour_values(1:6, palette = colourvalues::get_palette(\"viridis\")[70:256,])\n",
    "  )\n",
    "# View your created map - note that in Rstudio you only need to enter the name of your map at the console, the below\n",
    "# two lines are used only for rendering it in this notebook, you do not need to know these functions\n",
    "saveWidget(map, 'demo.html', selfcontained = FALSE)\n",
    "display_html('<iframe src=\"demo.html\"></iframe>')"
   ]
  },
  {
   "cell_type": "code",
   "execution_count": null,
   "metadata": {},
   "outputs": [],
   "source": []
  }
 ],
 "metadata": {
  "kernelspec": {
   "display_name": "R",
   "language": "R",
   "name": "ir"
  },
  "language_info": {
   "codemirror_mode": "r",
   "file_extension": ".r",
   "mimetype": "text/x-r-source",
   "name": "R",
   "pygments_lexer": "r",
   "version": "3.6.3"
  }
 },
 "nbformat": 4,
 "nbformat_minor": 4
}
